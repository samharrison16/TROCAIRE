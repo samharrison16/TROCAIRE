{
  "nbformat": 4,
  "nbformat_minor": 0,
  "metadata": {
    "colab": {
      "name": "Kivu AGB RF.ipynb",
      "provenance": [],
      "collapsed_sections": [],
      "authorship_tag": "ABX9TyOEuERCviyRN45OBSXAll/F",
      "include_colab_link": true
    },
    "kernelspec": {
      "name": "python3",
      "display_name": "Python 3"
    },
    "language_info": {
      "name": "python"
    }
  },
  "cells": [
    {
      "cell_type": "markdown",
      "metadata": {
        "id": "view-in-github",
        "colab_type": "text"
      },
      "source": [
        "<a href=\"https://colab.research.google.com/github/samharrison16/TROCAIRE/blob/main/Kivu_AGB_RF.ipynb\" target=\"_parent\"><img src=\"https://colab.research.google.com/assets/colab-badge.svg\" alt=\"Open In Colab\"/></a>"
      ]
    },
    {
      "cell_type": "markdown",
      "source": [
        "###Modelling aboveground biomass in Kivu, Rwanda for the TROCAIRE project\n",
        "Random forest regression model implemented in google earth engine using the Google Earth Engine Python API.\n",
        "\n",
        "Input data processed in Earth Engine and stored as Earth Engine assets "
      ],
      "metadata": {
        "id": "SUdYzhdq4BP7"
      }
    },
    {
      "cell_type": "code",
      "execution_count": null,
      "metadata": {
        "id": "q257q9k3yRRF"
      },
      "outputs": [],
      "source": [
        "import ee\n",
        "ee.Authenticate()\n",
        "ee.Initialize()"
      ]
    },
    {
      "cell_type": "code",
      "source": [
        "path = \"projects/trocaire-sh/assets/KV\"\n",
        "Cband = ee.Image(path + \"_Cband\")\n",
        "Lband = ee.Image(path + \"_PALSAR\")\n",
        "optical = ee.Image(path + \"_optical\")\n",
        "soil_pca = ee.Image(path + \"_soil_pc\")\n",
        "topo = ee.Image(path + \"_topo\")\n",
        "worldclim = ee.Image(path + \"_worldclim_pc\")\n",
        "all = optical.addBands(Cband).addBands(Lband).addBands(soil_pca).addBands(topo).addBands(worldclim)\n",
        "table = ee.FeatureCollection(path+\"_agb\")\n",
        "\n",
        "inputs = ee.List([\n",
        "  \"clim_pc1\",\n",
        "  \"clim_pc2\",\n",
        "  \"clim_pc3\",\n",
        "  \"soil_pc1\",\n",
        "  \"soil_pc2\",\n",
        "  \"soil_pc3\",\n",
        "  \"mTPI\",\n",
        "  \"B2\",\n",
        "  \"B3\",\n",
        "  \"B4\",\n",
        "  \"B8\",\n",
        "  \"VH\",\n",
        "  \"VV\",\n",
        "  \"VH_range\",\n",
        "  \"HV\",\n",
        "  \"HH\",\n",
        "  'HH_HV',\n",
        "  \"B4_stdDev\",\n",
        "  \"B8_stdDev\"\n",
        "])\n",
        "\n",
        "all = all.select(inputs)\n",
        "\n",
        "geometry = ee.Geometry.Polygon(\n",
        "        [[[29.352, -2.385],\n",
        "          [29.352, -2.665],\n",
        "          [29.552, -2.665],\n",
        "          [29.552, -2.385]]])\n",
        "\n",
        "#set seed and define the percentage data hold back for testing\n",
        "seed = 5\n",
        "splitpc = 0.75"
      ],
      "metadata": {
        "id": "wi1Z5GPbyk_v"
      },
      "execution_count": 33,
      "outputs": []
    },
    {
      "cell_type": "code",
      "source": [
        "#Buffer plot points by the size of the plot\n",
        "def buffer (feature):\n",
        "    return ee.Feature(feature.buffer(ee.Number(feature.get('PLOT_ha')).divide(3.14159265358979323846264).sqrt().multiply(100)))\n",
        "ground_data = table.map(buffer)  \n",
        "\n",
        "# split the data randomly to hold back data for testing, stratified so the same percentage split is taken across cover types \n",
        "def sortit (cover_n):\n",
        "    cov = ground_data.filter(ee.Filter.equals('PLOT_ha', cover_n)).randomColumn('random', seed)\n",
        "    cov = cov.sort('random')\n",
        "    def srt(num):\n",
        "      feature = ee.Feature(cov.toList(cov.size()).get(num))\n",
        "      return feature.set('sorted', ee.Number(num).add(1))\n",
        "    alist = (ee.List.sequence(0, cov.size().subtract(1), 1))\n",
        "    alist = alist.map(srt)\n",
        "    return ee.FeatureCollection(alist)\n",
        "\n",
        "def train (cover_n):\n",
        "    split = ee.Number(sortit(cover_n).size()).multiply(ee.Number(splitpc))\n",
        "    ltsplit = sortit(cover_n)\n",
        "    ltsplit = ltsplit.filter(ee.Filter.lte('sorted', split))\n",
        "    return ltsplit\n",
        "\n",
        "trainingPartition = train(0.5).merge(train(1))\n",
        "\n",
        "def test (cover_n):\n",
        "    split = ee.Number(sortit(cover_n).size()).multiply(ee.Number(splitpc))\n",
        "    gtsplit = sortit(cover_n)\n",
        "    gtsplit = gtsplit.filter(ee.Filter.gt('sorted', split))\n",
        "    return gtsplit\n",
        "\n",
        "testingPartition = test(0.5).merge(test(1))"
      ],
      "metadata": {
        "id": "tXjGL24SzB39"
      },
      "execution_count": 8,
      "outputs": []
    },
    {
      "cell_type": "code",
      "source": [
        "#sample the pixels for the plots\n",
        "training = all.reduceRegions(**{\n",
        "    'collection': trainingPartition,\n",
        "    'reducer': ee.Reducer.mean(),\n",
        "    'scale': 20\n",
        "  })\n",
        "\n",
        "bands = all.bandNames()"
      ],
      "metadata": {
        "id": "HHKxjaT-0IiI"
      },
      "execution_count": 9,
      "outputs": []
    },
    {
      "cell_type": "code",
      "source": [
        "#find the best variables per split parameters for the random forest regression model\n",
        "def varsplit (split):\n",
        "  init_params = {\"numberOfTrees\":150,\n",
        "              \"variablesPerSplit\":split, \n",
        "               \"seed\":seed}\n",
        "  trained = ee.Classifier.smileRandomForest(**init_params).train(training, 'AGB_ha', inputs).setOutputMode('REGRESSION')\n",
        "  classifierexplain = trained.explain()\n",
        "  return ee.Number(classifierexplain.get('outOfBagErrorEstimate'))\n",
        "a = ee.List.sequence(2, ee.List(inputs).size(), 1).map(varsplit)\n",
        "b = ee.List.sequence(2, ee.List(inputs).size(), 1)\n",
        "bestsplit = b.get(a.indexOf(a.reduce(ee.Reducer.min())))\n",
        "bestsplit.getInfo()"
      ],
      "metadata": {
        "colab": {
          "base_uri": "https://localhost:8080/"
        },
        "id": "xvEzJbaIxigL",
        "outputId": "f5bd009a-2b28-4f09-ecf8-63173773651e"
      },
      "execution_count": 10,
      "outputs": [
        {
          "output_type": "execute_result",
          "data": {
            "text/plain": [
              "4"
            ]
          },
          "metadata": {},
          "execution_count": 10
        }
      ]
    },
    {
      "cell_type": "code",
      "source": [
        "from matplotlib import pyplot as plt\n",
        "\n",
        "#find the best number of trees parameters for the random forest regression model\n",
        "def treeno (trees):\n",
        "  trained = ee.Classifier.smileRandomForest(**{\n",
        "      'numberOfTrees': trees,\n",
        "      'variablesPerSplit': bestsplit,\n",
        "      'seed': seed\n",
        "    }).train(training, 'AGB_ha', inputs).setOutputMode('REGRESSION')\n",
        "  classifierexplain = trained.explain()\n",
        "  return ee.Number(classifierexplain.get('outOfBagErrorEstimate'))\n",
        "\n",
        "c = ee.List.sequence(50, 500, 2).map(treeno)\n",
        "d = ee.List.sequence(50, 500, 2)\n",
        "besttrees = (d.get(c.indexOf(c.reduce(ee.Reducer.min()))))\n",
        "besttrees.getInfo()\n",
        "\n",
        "#scree plot all model OOBs against trees \n",
        "plt.plot(d.getInfo(), c.getInfo())"
      ],
      "metadata": {
        "colab": {
          "base_uri": "https://localhost:8080/",
          "height": 282
        },
        "id": "wlHmbTB_3miR",
        "outputId": "dde20be9-5947-407d-89fb-a64bef2b8b74"
      },
      "execution_count": 11,
      "outputs": [
        {
          "output_type": "execute_result",
          "data": {
            "text/plain": [
              "[<matplotlib.lines.Line2D at 0x7f19a7bc40d0>]"
            ]
          },
          "metadata": {},
          "execution_count": 11
        },
        {
          "output_type": "display_data",
          "data": {
            "text/plain": [
              "<Figure size 432x288 with 1 Axes>"
            ],
            "image/png": "[encoded data removed]"
          },
          "metadata": {
            "needs_background": "light"
          }
        }
      ]
    },
    {
      "cell_type": "code",
      "source": [
        "trainedcluster = ee.Classifier.smileRandomForest(besttrees,bestsplit).train(training, 'AGB_ha', bands).setOutputMode('REGRESSION');\n",
        "\n",
        "classified = all.classify(trainedcluster)"
      ],
      "metadata": {
        "id": "FxgIKPQS5PW2"
      },
      "execution_count": 14,
      "outputs": []
    },
    {
      "cell_type": "code",
      "source": [
        "import folium\n",
        "\n",
        "# Define a method for displaying Earth Engine image tiles to folium map.\n",
        "def add_ee_layer(self, ee_image_object, vis_params, name):\n",
        "  map_id_dict = ee.Image(ee_image_object).getMapId(vis_params)\n",
        "  folium.raster_layers.TileLayer(\n",
        "    tiles = map_id_dict['tile_fetcher'].url_format,\n",
        "    attr = 'Map Data &copy; <a href=\"https://earthengine.google.com/\">Google Earth Engine</a>',\n",
        "    name = name,\n",
        "    overlay = True,\n",
        "    control = True\n",
        "  ).add_to(self)\n",
        "\n",
        "# Add EE drawing method to folium.\n",
        "folium.Map.add_ee_layer = add_ee_layer\n",
        "\n",
        "# Set visualisation parameters.\n",
        "vis_params = {\n",
        "  'min': 0,\n",
        "  'max': 100,\n",
        "  'palette': ['d8d8d8','23de20','00ba17']}\n",
        "\n",
        "# Create a folium map object.\n",
        "my_map = folium.Map(location=[-2.5, 29.45], zoom_start=10)\n",
        "\n",
        "# Add the elevation model to the map object.\n",
        "my_map.add_ee_layer(classified, vis_params, 'DEM')\n",
        "\n",
        "# Add a layer control panel to the map.\n",
        "my_map.add_child(folium.LayerControl())\n",
        "\n",
        "# Display the agb map.\n",
        "display(my_map)"
      ],
      "metadata": {
        "id": "EUbjGJ9oIVh0"
      },
      "execution_count": null,
      "outputs": []
    },
    {
      "cell_type": "code",
      "source": [
        "#get the predicted values of the testing plots\n",
        "testing = classified.reduceRegions(**{ \n",
        "    'collection': testingPartition,\n",
        "    'reducer': ee.Reducer.mean(),\n",
        "    'scale': 20\n",
        "  })"
      ],
      "metadata": {
        "id": "FXI5aRvw6nCH"
      },
      "execution_count": 17,
      "outputs": []
    },
    {
      "cell_type": "code",
      "source": [
        "import numpy as np\n",
        "import pandas as pd\n",
        "\n",
        "#plot the modelled values against the measured values for the testing data\n",
        "a = [d['properties'] for d in testing.getInfo()['features']]\n",
        "AGB = [d['AGB_ha'] for d in a]\n",
        "pred = [d['mean'] for d in a]\n",
        "validation = pd.DataFrame({'AGB': AGB, 'pred': pred})\n",
        "plt.plot(AGB, pred, 'o')\n",
        "plt.plot(np.unique(AGB), np.poly1d(np.polyfit(AGB, pred, 1))(np.unique(AGB)), '-r')\n",
        "plt.plot(AGB, AGB, '-k')\n",
        "plt.show()\n"
      ],
      "metadata": {
        "colab": {
          "base_uri": "https://localhost:8080/",
          "height": 265
        },
        "id": "gTkElMPoAM0Y",
        "outputId": "4312060b-f701-4904-97f9-c92a621d2b07"
      },
      "execution_count": 18,
      "outputs": [
        {
          "output_type": "display_data",
          "data": {
            "text/plain": [
              "<Figure size 432x288 with 1 Axes>"
            ],
            "image/png": "[encoded data removed]"
          },
          "metadata": {
            "needs_background": "light"
          }
        }
      ]
    },
    {
      "cell_type": "code",
      "source": [
        "from sklearn.metrics import mean_squared_error, r2_score\n",
        "\n",
        "#stats for the testing plots\n",
        "rmse = mean_squared_error(AGB, pred, squared=False)\n",
        "r2 = r2_score(AGB, pred)\n",
        "print(rmse)\n",
        "print(r2)"
      ],
      "metadata": {
        "id": "7nmxfsrWGBjk",
        "colab": {
          "base_uri": "https://localhost:8080/"
        },
        "outputId": "4e83f353-ba18-4515-b2ec-271981042d67"
      },
      "execution_count": 19,
      "outputs": [
        {
          "output_type": "stream",
          "name": "stdout",
          "text": [
            "16.71345130127068\n",
            "0.5638182590162379\n"
          ]
        }
      ]
    },
    {
      "cell_type": "code",
      "source": [
        "#get the importance values from the RF model (Gini impurity)\n",
        "d = trainedcluster.explain().get('importance').getInfo()\n",
        "imp = pd.DataFrame(d.items()).rename(columns={0: \"band\", 1: \"value\"})\n",
        "imp = imp.sort_values(by='value')\n",
        "plt.clf()\n",
        "plt.style.use('ggplot')\n",
        "print(imp)\n",
        "x = imp.band\n",
        "y = imp.value\n",
        "\n",
        "plt.barh(x, y, color='green')\n",
        "\n",
        "plt.show()\n"
      ],
      "metadata": {
        "id": "YO-3aVE_HaXj",
        "colab": {
          "base_uri": "https://localhost:8080/",
          "height": 508
        },
        "outputId": "e9365686-58c7-4190-b287-27eaa1bde3bc"
      },
      "execution_count": 30,
      "outputs": [
        {
          "output_type": "stream",
          "name": "stdout",
          "text": [
            "         band          value\n",
            "4          B8   26951.484975\n",
            "6          HH   28603.672707\n",
            "12       mTPI   61195.103900\n",
            "5   B8_stdDev   64290.475113\n",
            "11         VV   67724.267450\n",
            "8          HV  116765.071925\n",
            "9          VH  171042.628728\n",
            "3   B4_stdDev  181033.451867\n",
            "10   VH_range  184782.629258\n",
            "1          B3  194714.302201\n",
            "2          B4  331420.138747\n",
            "7       HH_HV  409211.888654\n",
            "0          B2  413341.237729\n"
          ]
        },
        {
          "output_type": "display_data",
          "data": {
            "text/plain": [
              "<Figure size 432x288 with 1 Axes>"
            ],
            "image/png": "[encoded data removed]"
          },
          "metadata": {}
        }
      ]
    },
    {
      "cell_type": "code",
      "source": [
        "# export the agb image\n",
        "task = ee.batch.Export.image.toDrive(**{\n",
        "  'image': classified,\n",
        "  'description':'KV_AGB',\n",
        "  'folder': 'TROCAIRE',\n",
        "  'region': geometry,\n",
        "  'scale': 20\n",
        "  })\n",
        "task.start()"
      ],
      "metadata": {
        "id": "LFHejZSrFwks"
      },
      "execution_count": null,
      "outputs": []
    },
    {
      "cell_type": "code",
      "source": [
        "import time\n",
        "while task.active():\n",
        "  print('Polling for task (id: {}).'.format(task.id))\n",
        "  time.sleep(5)"
      ],
      "metadata": {
        "id": "1y8M-97b1976"
      },
      "execution_count": null,
      "outputs": []
    },
    {
      "cell_type": "code",
      "source": [
        "# export testing data\n",
        "task2 = ee.batch.Export.table.toDrive(**{\n",
        "  'collection': testing,\n",
        "  'description':'KV_AGB_test',\n",
        "  'fileFormat': 'csv',\n",
        "  'folder': 'TROCAIRE'\n",
        "})\n",
        "#task2.start()"
      ],
      "metadata": {
        "id": "b-EPAuLo19rZ"
      },
      "execution_count": null,
      "outputs": []
    },
    {
      "cell_type": "code",
      "source": [
        "while task2.active():\n",
        "  print('Polling for task (id: {}).'.format(task2.id))\n",
        "  time.sleep(5)"
      ],
      "metadata": {
        "id": "1Ady7c9QKnBV"
      },
      "execution_count": null,
      "outputs": []
    }
  ]
}